{
 "cells": [
  {
   "cell_type": "markdown",
   "metadata": {},
   "source": [
    "# Introducing Data"
   ]
  },
  {
   "cell_type": "code",
   "execution_count": 4,
   "metadata": {},
   "outputs": [],
   "source": [
    "text = open(\"US_births_1994-2003_CDC_NCHS.csv\").read()\n",
    "text_splitted = text.split(\"\\n\")"
   ]
  },
  {
   "cell_type": "code",
   "execution_count": 5,
   "metadata": {
    "scrolled": false
   },
   "outputs": [
    {
     "name": "stdout",
     "output_type": "stream",
     "text": [
      "[[1994, 1, 1, 6, 8096], [1994, 1, 2, 7, 7772], [1994, 1, 3, 1, 10142], [1994, 1, 4, 2, 11248], [1994, 1, 5, 3, 11053], [1994, 1, 6, 4, 11406], [1994, 1, 7, 5, 11251], [1994, 1, 8, 6, 8653], [1994, 1, 9, 7, 7910]]\n"
     ]
    }
   ],
   "source": [
    "def read_csv(file_name):\n",
    "    f = open(file_name).read()\n",
    "    file_splitted = f.split(\"\\n\")\n",
    "    string_list = file_splitted[1:len(file_splitted)]\n",
    "    final_list = []\n",
    "    for element in string_list:\n",
    "        int_fields = []\n",
    "        element_1 = element.split(\",\")\n",
    "        for element_2 in element_1:\n",
    "            int_fields.append(int(element_2))\n",
    "        final_list.append(int_fields)\n",
    "    return(final_list)\n",
    "\n",
    "cdc_list = read_csv(file_name = \"US_births_1994-2003_CDC_NCHS.csv\")\n",
    "print(cdc_list[0:9])"
   ]
  },
  {
   "cell_type": "code",
   "execution_count": 6,
   "metadata": {},
   "outputs": [
    {
     "name": "stdout",
     "output_type": "stream",
     "text": [
      "{1994: 3952767, 1995: 3899589, 1996: 3891494, 1997: 3880894, 1998: 3941553, 1999: 3959417, 2000: 4058814, 2001: 4025933, 2002: 4021726, 2003: 4089950}\n",
      "{1: 3232517, 2: 3018140, 3: 3322069, 4: 3185314, 5: 3350907, 6: 3296530, 7: 3498783, 8: 3525858, 9: 3439698, 10: 3378814, 11: 3171647, 12: 3301860}\n",
      "{1994: 3952767, 1995: 3899589, 1996: 3891494, 1997: 3880894, 1998: 3941553, 1999: 3959417, 2000: 4058814, 2001: 4025933, 2002: 4021726, 2003: 4089950}\n",
      "{1994: 3952767, 1995: 3899589, 1996: 3891494, 1997: 3880894, 1998: 3941553, 1999: 3959417, 2000: 4058814, 2001: 4025933, 2002: 4021726, 2003: 4089950}\n"
     ]
    }
   ],
   "source": [
    "def calc_counts(data,column):\n",
    "    dict = {}\n",
    "    for element in data:\n",
    "        element[4] = int(element[4])\n",
    "        if element[column] in dict:\n",
    "            dict[element[column]] += element[4]\n",
    "        else:\n",
    "            dict[element[column]] = element[4]\n",
    "    return(dict)\n",
    "\n",
    "cdc_year_births = calc_counts(cdc_list,0)\n",
    "print(cdc_year_births)\n",
    "cdc_month_births = calc_counts(cdc_list,1)\n",
    "print(cdc_month_births)\n",
    "cdc_dom_births = calc_counts(cdc_list,2)\n",
    "print(cdc_year_births)\n",
    "cdc_year_births = calc_counts(cdc_list,0)\n",
    "print(cdc_year_births)"
   ]
  },
  {
   "cell_type": "code",
   "execution_count": null,
   "metadata": {},
   "outputs": [],
   "source": []
  },
  {
   "cell_type": "code",
   "execution_count": null,
   "metadata": {},
   "outputs": [],
   "source": []
  }
 ],
 "metadata": {
  "anaconda-cloud": {},
  "kernelspec": {
   "display_name": "Python 3",
   "language": "python",
   "name": "python3"
  },
  "language_info": {
   "codemirror_mode": {
    "name": "ipython",
    "version": 3
   },
   "file_extension": ".py",
   "mimetype": "text/x-python",
   "name": "python",
   "nbconvert_exporter": "python",
   "pygments_lexer": "ipython3",
   "version": "3.6.4"
  }
 },
 "nbformat": 4,
 "nbformat_minor": 1
}
